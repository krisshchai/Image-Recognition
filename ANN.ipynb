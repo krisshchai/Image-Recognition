{
  "nbformat": 4,
  "nbformat_minor": 0,
  "metadata": {
    "colab": {
      "name": "Untitled0.ipynb",
      "provenance": [],
      "authorship_tag": "ABX9TyPy3/uOgVH+YiOHwqXggr+k",
      "include_colab_link": true
    },
    "kernelspec": {
      "name": "python3",
      "display_name": "Python 3"
    }
  },
  "cells": [
    {
      "cell_type": "markdown",
      "metadata": {
        "id": "view-in-github",
        "colab_type": "text"
      },
      "source": [
        "<a href=\"https://colab.research.google.com/github/krisshchai/Image-Recognition/blob/master/ANN.ipynb\" target=\"_parent\"><img src=\"https://colab.research.google.com/assets/colab-badge.svg\" alt=\"Open In Colab\"/></a>"
      ]
    },
    {
      "cell_type": "code",
      "metadata": {
        "id": "_jVdP6FkTe7e",
        "colab_type": "code",
        "colab": {}
      },
      "source": [
        "import numpy as np\n",
        "\n",
        "class ANN:\n",
        "  def __init__(self):\n",
        "    self.weight = None\n",
        "    self.input = None\n",
        "\n",
        "  def __activateFun(self, z):\n",
        "    return 1/ (1+ np.exp(-z))\n",
        "\n",
        "  def __diffActivateFun(self, x):\n",
        "    return x * (1 - x)\n",
        "\n",
        "  def __insertingBias(self, input):\n",
        "    bias = np.zeros((1, 1)) + 1\n",
        "    return np.insert(input, len(input[0]), bias, axis = 1)\n",
        "\n",
        "  def train(self, trainInput, trainOutput, epchoes = 100):\n",
        "\n",
        "    #Inserting Bias (1) in input\n",
        "    trainInput = self.__insertingBias(trainInput)\n",
        "\n",
        "    #Initilizing weights\n",
        "    self.weight = np.zeros((len(trainInput[0]), len(trainOutput[0]))) + 1\n",
        "    \n",
        "    for i in range(epchoes):\n",
        "      #Forward Propogation\n",
        "      output = self.__activateFun(np.dot(trainInput, self.weight))\n",
        "\n",
        "      #Backward Propogation\n",
        "      error = trainOutput - output\n",
        "      adj_weight = error * self.__diffActivateFun(output)\n",
        "      self.weight += np.dot(trainInput.T, adj_weight)\n",
        "    \n",
        "  def predict(self, testInput):\n",
        "    return self.__activateFun(np.dot(self.__insertingBias(testInput), self.weight))\n",
        "\n"
      ],
      "execution_count": 31,
      "outputs": []
    },
    {
      "cell_type": "code",
      "metadata": {
        "id": "yDLcJ4fCap6W",
        "colab_type": "code",
        "colab": {}
      },
      "source": [
        "#Input\n",
        "input = np.array([[0,0], [0,1], [1,0], [1,1]])\n",
        "\n",
        "#Output\n",
        "output = np.array([[1,0,0,0], [0,1,0,0], [0,0,1,0], [0,0,0,1]])\n",
        "\n",
        "p = ANN()\n",
        "\n",
        "p.train(input, output)\n",
        "\n",
        "op = p.predict(np.array([input[2]]))"
      ],
      "execution_count": 33,
      "outputs": []
    },
    {
      "cell_type": "code",
      "metadata": {
        "id": "REKRDgctctp9",
        "colab_type": "code",
        "colab": {
          "base_uri": "https://localhost:8080/",
          "height": 84
        },
        "outputId": "abe95c58-e53f-4f05-e4d3-aac52c60052e"
      },
      "source": [
        "label = [0,1,2,3]\n",
        "op = p.predict(input)\n",
        "for i in op:\n",
        "  z = max(i)\n",
        "  for j in range(len(i)):\n",
        "    if i[j] == z:\n",
        "      print(label[j])"
      ],
      "execution_count": 39,
      "outputs": [
        {
          "output_type": "stream",
          "text": [
            "0\n",
            "1\n",
            "2\n",
            "3\n"
          ],
          "name": "stdout"
        }
      ]
    },
    {
      "cell_type": "code",
      "metadata": {
        "id": "Ahv-C8xdcwIA",
        "colab_type": "code",
        "colab": {}
      },
      "source": [
        ""
      ],
      "execution_count": null,
      "outputs": []
    }
  ]
}